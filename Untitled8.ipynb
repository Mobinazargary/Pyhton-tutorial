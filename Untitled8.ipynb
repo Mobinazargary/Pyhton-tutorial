{
  "nbformat": 4,
  "nbformat_minor": 0,
  "metadata": {
    "colab": {
      "provenance": []
    },
    "kernelspec": {
      "name": "python3",
      "display_name": "Python 3"
    },
    "language_info": {
      "name": "python"
    }
  },
  "cells": [
    {
      "cell_type": "code",
      "execution_count": 18,
      "metadata": {
        "id": "_0zz9GMv4fEy"
      },
      "outputs": [],
      "source": [
        "#slicing = create a substring by extracting elements from another string\n",
        "\n",
        "#indexing[] or slice()\n",
        "\n",
        "#[start:stop:step]"
      ]
    },
    {
      "cell_type": "code",
      "source": [
        "name = \"Mobina Zargary\"\n",
        "\n",
        "first_name = name[13]\n",
        "\n",
        "print(first_name)"
      ],
      "metadata": {
        "colab": {
          "base_uri": "https://localhost:8080/"
        },
        "id": "G4BjMj3I5BEI",
        "outputId": "ff61a5f3-557a-4a18-91bc-971a795caef2"
      },
      "execution_count": 19,
      "outputs": [
        {
          "output_type": "stream",
          "name": "stdout",
          "text": [
            "y\n"
          ]
        }
      ]
    },
    {
      "cell_type": "code",
      "source": [
        "first_name = name[0:3]\n",
        "#first_name = name[:3]\n",
        "\n",
        "print(first_name)"
      ],
      "metadata": {
        "colab": {
          "base_uri": "https://localhost:8080/"
        },
        "id": "kU0XY7aBAI3Q",
        "outputId": "5cc2010a-d81d-43ad-b770-f9182a065f5c"
      },
      "execution_count": 20,
      "outputs": [
        {
          "output_type": "stream",
          "name": "stdout",
          "text": [
            "Mob\n"
          ]
        }
      ]
    },
    {
      "cell_type": "code",
      "source": [
        "funky_name = name [0:14:2]\n",
        "print(funky_name)"
      ],
      "metadata": {
        "colab": {
          "base_uri": "https://localhost:8080/"
        },
        "id": "IP9m02UqAn4T",
        "outputId": "0cafe469-b120-4d28-a692-92b00f14e7e9"
      },
      "execution_count": 21,
      "outputs": [
        {
          "output_type": "stream",
          "name": "stdout",
          "text": [
            "Mbn agr\n"
          ]
        }
      ]
    },
    {
      "cell_type": "code",
      "source": [
        "reversed_name = name[::-1]\n",
        "print(reversed_name)"
      ],
      "metadata": {
        "colab": {
          "base_uri": "https://localhost:8080/"
        },
        "id": "wdam1jH5CBIM",
        "outputId": "7725f329-7f15-49ec-d2bc-bf3f321b207d"
      },
      "execution_count": 22,
      "outputs": [
        {
          "output_type": "stream",
          "name": "stdout",
          "text": [
            "yragraZ aniboM\n"
          ]
        }
      ]
    },
    {
      "cell_type": "code",
      "source": [
        "websitel = \"http://google.com\"\n",
        "website2 = \"http://wikipedia.com\"\n",
        "\n"
      ],
      "metadata": {
        "id": "y1iV1THAAy08"
      },
      "execution_count": 28,
      "outputs": []
    },
    {
      "cell_type": "code",
      "source": [
        "# Explicitly import the built-in slice type (though it should not be necessary in a clean environment)\n",
        "slice = __builtins__.slice #The __builtins__ module in Python provides direct access to all the built-in objects, functions, and types that Python offers. By referencing __builtins__.slice, you ensure that you are using the original built-in slice type, even if it has been shadowed or overridden in the current scope.\n",
        "\n",
        "websitel = \"http://google.com\"\n",
        "website2 = \"http://wikipedia.com\"\n",
        "\n",
        "slice1 = slice(7, -4)\n",
        "print(websitel[slice1])\n",
        "print(website2[slice1])\n"
      ],
      "metadata": {
        "colab": {
          "base_uri": "https://localhost:8080/"
        },
        "id": "MVmmZYZKCKe0",
        "outputId": "175a19ce-140b-42f3-d1e0-fdb0035b0bbc"
      },
      "execution_count": 33,
      "outputs": [
        {
          "output_type": "stream",
          "name": "stdout",
          "text": [
            "google\n",
            "wikipedia\n"
          ]
        }
      ]
    }
  ]
}